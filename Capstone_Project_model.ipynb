{
 "cells": [
  {
   "cell_type": "code",
   "execution_count": 1,
   "id": "f194b70d",
   "metadata": {},
   "outputs": [],
   "source": [
    "from pathlib import Path # to interact with file system.\n",
    "\n",
    "import numpy as np # for working with arrays.\n",
    "import pandas as pd # for working with data frames (tables).\n",
    "\n",
    "from sklearn import metrics\n",
    "\n",
    "from sklearn.model_selection import train_test_split, cross_val_score # for data partition.\n",
    "from sklearn.metrics import r2_score # to identify r_squared for regression model.\n",
    "from sklearn.linear_model import LinearRegression # for linear regression model.\n",
    "from sklearn.metrics import mean_squared_error,mean_absolute_error\n",
    "\n",
    "%matplotlib inline \n",
    "import matplotlib.pylab as plt\n",
    "\n",
    "from dmba import regressionSummary, exhaustive_search\n",
    "from dmba import backward_elimination, forward_selection, stepwise_selection\n",
    "from dmba import adjusted_r2_score, AIC_score, BIC_score\n",
    "\n",
    "from sklearn.metrics import accuracy_score\n",
    "from sklearn.neighbors import NearestNeighbors, KNeighborsClassifier\n",
    "import os\n",
    "import calendar\n",
    "#import scatter_matrix, parallel_coordinates\n",
    "import seaborn as sns\n",
    "from sklearn import preprocessing\n",
    "\n",
    "from sklearn.ensemble import RandomForestRegressor\n",
    "from sklearn.model_selection import train_test_split\n",
    "from sklearn.metrics import mean_squared_error\n"
   ]
  },
  {
   "cell_type": "code",
   "execution_count": 2,
   "id": "ced9f848",
   "metadata": {},
   "outputs": [
    {
     "name": "stdout",
     "output_type": "stream",
     "text": [
      "Requirement already satisfied: dmba in c:\\users\\stsc\\anaconda3\\lib\\site-packages (0.2.4)Note: you may need to restart the kernel to use updated packages.\n",
      "\n",
      "Requirement already satisfied: graphviz in c:\\users\\stsc\\anaconda3\\lib\\site-packages (from dmba) (0.20.1)\n",
      "Requirement already satisfied: matplotlib in c:\\users\\stsc\\anaconda3\\lib\\site-packages (from dmba) (3.7.2)\n",
      "Requirement already satisfied: numpy in c:\\users\\stsc\\anaconda3\\lib\\site-packages (from dmba) (1.24.3)\n",
      "Requirement already satisfied: pandas in c:\\users\\stsc\\anaconda3\\lib\\site-packages (from dmba) (2.0.3)\n",
      "Requirement already satisfied: scikit-learn in c:\\users\\stsc\\appdata\\roaming\\python\\python311\\site-packages (from dmba) (1.3.2)\n",
      "Requirement already satisfied: scipy in c:\\users\\stsc\\anaconda3\\lib\\site-packages (from dmba) (1.11.1)\n",
      "Requirement already satisfied: contourpy>=1.0.1 in c:\\users\\stsc\\anaconda3\\lib\\site-packages (from matplotlib->dmba) (1.0.5)\n",
      "Requirement already satisfied: cycler>=0.10 in c:\\users\\stsc\\anaconda3\\lib\\site-packages (from matplotlib->dmba) (0.11.0)\n",
      "Requirement already satisfied: fonttools>=4.22.0 in c:\\users\\stsc\\anaconda3\\lib\\site-packages (from matplotlib->dmba) (4.25.0)\n",
      "Requirement already satisfied: kiwisolver>=1.0.1 in c:\\users\\stsc\\anaconda3\\lib\\site-packages (from matplotlib->dmba) (1.4.4)\n",
      "Requirement already satisfied: packaging>=20.0 in c:\\users\\stsc\\anaconda3\\lib\\site-packages (from matplotlib->dmba) (23.1)\n",
      "Requirement already satisfied: pillow>=6.2.0 in c:\\users\\stsc\\anaconda3\\lib\\site-packages (from matplotlib->dmba) (9.4.0)\n",
      "Requirement already satisfied: pyparsing<3.1,>=2.3.1 in c:\\users\\stsc\\anaconda3\\lib\\site-packages (from matplotlib->dmba) (3.0.9)\n",
      "Requirement already satisfied: python-dateutil>=2.7 in c:\\users\\stsc\\anaconda3\\lib\\site-packages (from matplotlib->dmba) (2.8.2)\n",
      "Requirement already satisfied: pytz>=2020.1 in c:\\users\\stsc\\anaconda3\\lib\\site-packages (from pandas->dmba) (2023.3.post1)\n",
      "Requirement already satisfied: tzdata>=2022.1 in c:\\users\\stsc\\anaconda3\\lib\\site-packages (from pandas->dmba) (2023.3)\n",
      "Requirement already satisfied: joblib>=1.1.1 in c:\\users\\stsc\\anaconda3\\lib\\site-packages (from scikit-learn->dmba) (1.2.0)\n",
      "Requirement already satisfied: threadpoolctl>=2.0.0 in c:\\users\\stsc\\anaconda3\\lib\\site-packages (from scikit-learn->dmba) (2.2.0)\n",
      "Requirement already satisfied: six>=1.5 in c:\\users\\stsc\\anaconda3\\lib\\site-packages (from python-dateutil>=2.7->matplotlib->dmba) (1.16.0)\n"
     ]
    }
   ],
   "source": [
    "pip install dmba"
   ]
  },
  {
   "cell_type": "code",
   "execution_count": 3,
   "id": "d80daa26",
   "metadata": {},
   "outputs": [
    {
     "name": "stdout",
     "output_type": "stream",
     "text": [
      "Requirement already satisfied: seaborn in c:\\users\\stsc\\anaconda3\\lib\\site-packages (0.12.2)\n",
      "Requirement already satisfied: numpy!=1.24.0,>=1.17 in c:\\users\\stsc\\anaconda3\\lib\\site-packages (from seaborn) (1.24.3)\n",
      "Requirement already satisfied: pandas>=0.25 in c:\\users\\stsc\\anaconda3\\lib\\site-packages (from seaborn) (2.0.3)\n",
      "Requirement already satisfied: matplotlib!=3.6.1,>=3.1 in c:\\users\\stsc\\anaconda3\\lib\\site-packages (from seaborn) (3.7.2)\n",
      "Requirement already satisfied: contourpy>=1.0.1 in c:\\users\\stsc\\anaconda3\\lib\\site-packages (from matplotlib!=3.6.1,>=3.1->seaborn) (1.0.5)\n",
      "Requirement already satisfied: cycler>=0.10 in c:\\users\\stsc\\anaconda3\\lib\\site-packages (from matplotlib!=3.6.1,>=3.1->seaborn) (0.11.0)\n",
      "Requirement already satisfied: fonttools>=4.22.0 in c:\\users\\stsc\\anaconda3\\lib\\site-packages (from matplotlib!=3.6.1,>=3.1->seaborn) (4.25.0)\n",
      "Requirement already satisfied: kiwisolver>=1.0.1 in c:\\users\\stsc\\anaconda3\\lib\\site-packages (from matplotlib!=3.6.1,>=3.1->seaborn) (1.4.4)\n",
      "Requirement already satisfied: packaging>=20.0 in c:\\users\\stsc\\anaconda3\\lib\\site-packages (from matplotlib!=3.6.1,>=3.1->seaborn) (23.1)\n",
      "Requirement already satisfied: pillow>=6.2.0 in c:\\users\\stsc\\anaconda3\\lib\\site-packages (from matplotlib!=3.6.1,>=3.1->seaborn) (9.4.0)\n",
      "Requirement already satisfied: pyparsing<3.1,>=2.3.1 in c:\\users\\stsc\\anaconda3\\lib\\site-packages (from matplotlib!=3.6.1,>=3.1->seaborn) (3.0.9)\n",
      "Requirement already satisfied: python-dateutil>=2.7 in c:\\users\\stsc\\anaconda3\\lib\\site-packages (from matplotlib!=3.6.1,>=3.1->seaborn) (2.8.2)\n",
      "Requirement already satisfied: pytz>=2020.1 in c:\\users\\stsc\\anaconda3\\lib\\site-packages (from pandas>=0.25->seaborn) (2023.3.post1)\n",
      "Requirement already satisfied: tzdata>=2022.1 in c:\\users\\stsc\\anaconda3\\lib\\site-packages (from pandas>=0.25->seaborn) (2023.3)\n",
      "Requirement already satisfied: six>=1.5 in c:\\users\\stsc\\anaconda3\\lib\\site-packages (from python-dateutil>=2.7->matplotlib!=3.6.1,>=3.1->seaborn) (1.16.0)\n",
      "Note: you may need to restart the kernel to use updated packages.\n"
     ]
    }
   ],
   "source": [
    "pip install seaborn"
   ]
  },
  {
   "cell_type": "code",
   "execution_count": 4,
   "id": "28962dfb",
   "metadata": {},
   "outputs": [],
   "source": [
    "import seaborn as sns\n",
    "import matplotlib.pylab as plt"
   ]
  },
  {
   "cell_type": "markdown",
   "id": "0b5a1cd1",
   "metadata": {},
   "source": [
    "# Read the Data"
   ]
  },
  {
   "cell_type": "code",
   "execution_count": 5,
   "id": "4aeaf9a8",
   "metadata": {},
   "outputs": [],
   "source": [
    "fact_taxi_df = pd.read_csv(\"fact_taxi_transport.csv\", low_memory=False)\n",
    "dim_weather_df = pd.read_csv(\"New_Weather_Data.csv\")\n",
    "time_data_PU_df = pd.read_csv(\"time_data.csv\")\n",
    "time_data_DO_df = pd.read_csv(\"time_data.csv\")\n",
    "dim_location_PU_df = pd.read_csv(\"Dim_location.csv\")\n",
    "dim_location_DO_df = pd.read_csv(\"Dim_location.csv\")\n",
    "business_data_df = pd.read_csv(\"business_data.csv\")"
   ]
  },
  {
   "cell_type": "code",
   "execution_count": 6,
   "id": "157ae40c",
   "metadata": {},
   "outputs": [
    {
     "data": {
      "text/plain": [
       "Index(['Dim_pickup_time_id', 'Dim_Dropoff_time_id', 'Dim_Pickup_Location_id',\n",
       "       'Dim_Dropoff_Location_id', 'Dim_Business_id', 'Dim_Weather_id',\n",
       "       'Dim_carpooled_id', 'Dim_PublicTransport', 'Dim_DriveAlone_id',\n",
       "       'Trip_Distance', 'Tip_amount', 'Total_amount'],\n",
       "      dtype='object')"
      ]
     },
     "execution_count": 6,
     "metadata": {},
     "output_type": "execute_result"
    }
   ],
   "source": [
    "fact_taxi_df.columns"
   ]
  },
  {
   "cell_type": "markdown",
   "id": "3df1abc4",
   "metadata": {},
   "source": [
    "# Rename neccessary columns to join data from different files"
   ]
  },
  {
   "cell_type": "code",
   "execution_count": 7,
   "id": "57cfbf84",
   "metadata": {},
   "outputs": [],
   "source": [
    "business_data_df = business_data_df.rename(columns= {'Business_id': 'Dim_Business_id'})\n",
    "dim_location_PU_df = dim_location_PU_df.rename(columns= {'LocationID' : 'Dim_Pickup_Location_id', 'Borough' : 'PUBorough', 'Zone' : 'PUZone'})\n",
    "dim_location_DO_df = dim_location_DO_df.rename(columns= {'LocationID' : 'Dim_Dropoff_Location_id', 'Borough' : 'DOBorough', 'Zone' : 'DOZone'})\n",
    "time_data_PU_df = time_data_PU_df.rename(columns= {'Timestamp' : 'PUTimestamp', 'Time_id' : 'Dim_pickup_time_id'})\n",
    "time_data_DO_df = time_data_DO_df.rename(columns= {'Timestamp' : 'DOTimestamp', 'Time_id' : 'Dim_Dropoff_time_id'})\n",
    "dim_weather_df = dim_weather_df.rename(columns= {'Weather_id' : 'Dim_Weather_id' })"
   ]
  },
  {
   "cell_type": "code",
   "execution_count": 8,
   "id": "95de345b",
   "metadata": {},
   "outputs": [],
   "source": [
    "weather_df = dim_weather_df.drop(['city_name','Date_Time'], axis = 1)\n",
    "unique_weather_data = weather_df.drop_duplicates()"
   ]
  },
  {
   "cell_type": "markdown",
   "id": "ab8ee69b",
   "metadata": {},
   "source": [
    "# Joining the Data"
   ]
  },
  {
   "cell_type": "code",
   "execution_count": 9,
   "id": "83434217",
   "metadata": {},
   "outputs": [],
   "source": [
    "taxi_df = business_data_df[['Industry', 'Dim_Business_id']].merge(fact_taxi_df[['Dim_pickup_time_id', 'Dim_Dropoff_time_id', 'Dim_Pickup_Location_id','Dim_Dropoff_Location_id', 'Dim_Business_id', 'Dim_Weather_id','Dim_carpooled_id', 'Dim_DriveAlone_id', 'Dim_PublicTransport','Trip_Distance', 'Tip_amount', 'Total_amount']], on = 'Dim_Business_id', how = 'right')\n",
    "taxi_df = dim_location_PU_df[['Dim_Pickup_Location_id', 'PUBorough', 'PUZone']].merge(taxi_df[['Industry', 'Dim_Business_id', 'Dim_pickup_time_id','Dim_Dropoff_time_id', 'Dim_Pickup_Location_id','Dim_Dropoff_Location_id', 'Dim_Weather_id', 'Dim_carpooled_id','Dim_DriveAlone_id', 'Dim_PublicTransport', 'Trip_Distance','Tip_amount', 'Total_amount']], on = 'Dim_Pickup_Location_id', how = 'right')\n",
    "taxi_df = dim_location_DO_df[['Dim_Dropoff_Location_id', 'DOBorough', 'DOZone']].merge(taxi_df[['Industry', 'Dim_Business_id', 'Dim_pickup_time_id', 'PUBorough', 'PUZone','Dim_Dropoff_time_id', 'Dim_Pickup_Location_id','Dim_Dropoff_Location_id', 'Dim_Weather_id', 'Dim_carpooled_id','Dim_DriveAlone_id', 'Dim_PublicTransport', 'Trip_Distance','Tip_amount', 'Total_amount']], on = 'Dim_Dropoff_Location_id', how = 'right')\n",
    "taxi_df = time_data_PU_df[['PUTimestamp', 'Dim_pickup_time_id']].merge(taxi_df[['Dim_Dropoff_Location_id', 'DOBorough', 'DOZone', 'Industry','Dim_Business_id', 'Dim_pickup_time_id', 'PUBorough', 'PUZone','Dim_Dropoff_time_id', 'Dim_Pickup_Location_id', 'Dim_Weather_id','Dim_carpooled_id', 'Dim_DriveAlone_id', 'Dim_PublicTransport','Trip_Distance', 'Tip_amount', 'Total_amount']], on = 'Dim_pickup_time_id', how = 'right')\n",
    "taxi_df = time_data_DO_df[['DOTimestamp', 'Dim_Dropoff_time_id']].merge(taxi_df[['Dim_Dropoff_Location_id', 'DOBorough', 'DOZone', 'Industry','Dim_Business_id', 'Dim_pickup_time_id','PUTimestamp', 'PUBorough', 'PUZone','Dim_Dropoff_time_id', 'Dim_Pickup_Location_id', 'Dim_Weather_id','Dim_carpooled_id', 'Dim_DriveAlone_id', 'Dim_PublicTransport','Trip_Distance', 'Tip_amount', 'Total_amount']], on = 'Dim_Dropoff_time_id', how = 'right')\n",
    "taxi_df = unique_weather_data[['Dim_Weather_id', 'weather_type', 'Temperature']].merge(taxi_df[['Dim_Dropoff_Location_id', 'DOBorough', 'DOZone', 'Industry','Dim_Business_id', 'Dim_pickup_time_id','PUTimestamp', 'PUBorough', 'PUZone','Dim_Dropoff_time_id','DOTimestamp', 'Dim_Pickup_Location_id', 'Dim_Weather_id','Dim_carpooled_id', 'Dim_DriveAlone_id', 'Dim_PublicTransport','Trip_Distance', 'Tip_amount', 'Total_amount']], on = 'Dim_Weather_id', how = 'right')"
   ]
  },
  {
   "cell_type": "code",
   "execution_count": 10,
   "id": "834e4dc6",
   "metadata": {},
   "outputs": [
    {
     "data": {
      "text/plain": [
       "Index(['Dim_Weather_id', 'weather_type', 'Temperature',\n",
       "       'Dim_Dropoff_Location_id', 'DOBorough', 'DOZone', 'Industry',\n",
       "       'Dim_Business_id', 'Dim_pickup_time_id', 'PUTimestamp', 'PUBorough',\n",
       "       'PUZone', 'Dim_Dropoff_time_id', 'DOTimestamp',\n",
       "       'Dim_Pickup_Location_id', 'Dim_carpooled_id', 'Dim_DriveAlone_id',\n",
       "       'Dim_PublicTransport', 'Trip_Distance', 'Tip_amount', 'Total_amount'],\n",
       "      dtype='object')"
      ]
     },
     "execution_count": 10,
     "metadata": {},
     "output_type": "execute_result"
    }
   ],
   "source": [
    "taxi_df.columns"
   ]
  },
  {
   "cell_type": "code",
   "execution_count": 11,
   "id": "0eb3537a",
   "metadata": {},
   "outputs": [
    {
     "data": {
      "text/plain": [
       "Dim_Weather_id              object\n",
       "weather_type                object\n",
       "Temperature                 object\n",
       "Dim_Dropoff_Location_id      int64\n",
       "DOBorough                   object\n",
       "DOZone                      object\n",
       "Industry                    object\n",
       "Dim_Business_id             object\n",
       "Dim_pickup_time_id          object\n",
       "PUTimestamp                 object\n",
       "PUBorough                   object\n",
       "PUZone                      object\n",
       "Dim_Dropoff_time_id         object\n",
       "DOTimestamp                 object\n",
       "Dim_Pickup_Location_id       int64\n",
       "Dim_carpooled_id            object\n",
       "Dim_DriveAlone_id           object\n",
       "Dim_PublicTransport         object\n",
       "Trip_Distance              float64\n",
       "Tip_amount                 float64\n",
       "Total_amount               float64\n",
       "dtype: object"
      ]
     },
     "execution_count": 11,
     "metadata": {},
     "output_type": "execute_result"
    }
   ],
   "source": [
    "taxi_df.dtypes"
   ]
  },
  {
   "cell_type": "markdown",
   "id": "9cd5a362",
   "metadata": {},
   "source": [
    "# Dropping unneccessary columns like ID's"
   ]
  },
  {
   "cell_type": "code",
   "execution_count": 12,
   "id": "d78d9b7b",
   "metadata": {},
   "outputs": [],
   "source": [
    "taxi_df = taxi_df.drop([ 'Dim_carpooled_id','Dim_Weather_id','Dim_Dropoff_Location_id','Dim_Business_id', 'Dim_pickup_time_id','Dim_Dropoff_time_id','Dim_Pickup_Location_id', 'Dim_DriveAlone_id','Dim_PublicTransport','DOBorough','PUBorough'],axis=1)"
   ]
  },
  {
   "cell_type": "markdown",
   "id": "bcd9908a",
   "metadata": {},
   "source": [
    "# Converting the data types as appropriate"
   ]
  },
  {
   "cell_type": "code",
   "execution_count": 13,
   "id": "640564f3",
   "metadata": {},
   "outputs": [],
   "source": [
    "taxi_df['DOTimestamp'] = pd.to_datetime(taxi_df['DOTimestamp'], format='%d-%m-%Y %H:%M')\n",
    "taxi_df['PUTimestamp'] = pd.to_datetime(taxi_df['PUTimestamp'], format='%d-%m-%Y %H:%M')\n",
    "taxi_df.DOZone = taxi_df.DOZone.astype('category')\n",
    "taxi_df.PUZone = taxi_df.PUZone.astype('category')\n",
    "taxi_df.weather_type = taxi_df.weather_type.astype('category')\n",
    "taxi_df.Temperature = taxi_df.Temperature.astype('category')\n",
    "taxi_df.Industry = taxi_df.Industry.astype('category')"
   ]
  },
  {
   "cell_type": "markdown",
   "id": "87b57612",
   "metadata": {},
   "source": [
    "# Convert Timestamp to month, weekday, hour"
   ]
  },
  {
   "cell_type": "code",
   "execution_count": 14,
   "id": "b9629bac",
   "metadata": {},
   "outputs": [],
   "source": [
    "taxi_df['PU_weekday'] = taxi_df.PUTimestamp.dt.day_name\n",
    "taxi_df['PU_month'] = taxi_df.PUTimestamp.dt.month\n",
    "taxi_df['PU_weekday_num'] = ((taxi_df.PUTimestamp.dt.weekday +1)%7)+1\n",
    "taxi_df['PU_pickup_hour'] = taxi_df.PUTimestamp.dt.hour\n",
    "taxi_df['DO_weekday'] = taxi_df.DOTimestamp.dt.day_name\n",
    "taxi_df['DO_month'] = taxi_df.DOTimestamp.dt.month\n",
    "taxi_df['DO_weekday_num'] = ((taxi_df.DOTimestamp.dt.weekday +1)%7)+1\n",
    "taxi_df['DO_pickup_hour'] = taxi_df.DOTimestamp.dt.hour"
   ]
  },
  {
   "cell_type": "code",
   "execution_count": 15,
   "id": "d3097314",
   "metadata": {},
   "outputs": [],
   "source": [
    "taxi_df.PU_weekday_num = taxi_df.PU_weekday_num.astype('category')\n",
    "taxi_df.DO_weekday_num = taxi_df.DO_weekday_num.astype('category')"
   ]
  },
  {
   "cell_type": "code",
   "execution_count": 16,
   "id": "0b966029",
   "metadata": {},
   "outputs": [
    {
     "data": {
      "text/plain": [
       "Index(['weather_type', 'Temperature', 'DOZone', 'Industry', 'PUTimestamp',\n",
       "       'PUZone', 'DOTimestamp', 'Trip_Distance', 'Tip_amount', 'Total_amount',\n",
       "       'PU_weekday', 'PU_month', 'PU_weekday_num', 'PU_pickup_hour',\n",
       "       'DO_weekday', 'DO_month', 'DO_weekday_num', 'DO_pickup_hour'],\n",
       "      dtype='object')"
      ]
     },
     "execution_count": 16,
     "metadata": {},
     "output_type": "execute_result"
    }
   ],
   "source": [
    "taxi_df.columns"
   ]
  },
  {
   "cell_type": "markdown",
   "id": "8ec64e22",
   "metadata": {},
   "source": [
    "# Correlation Matrix"
   ]
  },
  {
   "cell_type": "code",
   "execution_count": 17,
   "id": "93e32f93",
   "metadata": {},
   "outputs": [],
   "source": [
    "numeric_columns = ['Trip_Distance', 'Tip_amount', 'Total_amount']\n",
    "numeric_data = taxi_df[numeric_columns]"
   ]
  },
  {
   "cell_type": "code",
   "execution_count": 18,
   "id": "99daf83f",
   "metadata": {},
   "outputs": [
    {
     "data": {
      "image/png": "[encoded data removed]",
      "text/plain": [
       "<Figure size 400x300 with 2 Axes>"
      ]
     },
     "metadata": {},
     "output_type": "display_data"
    }
   ],
   "source": [
    "corr = numeric_data.corr()\n",
    "fig, ax = plt.subplots()\n",
    "fig.set_size_inches(4, 3)\n",
    "sns.heatmap(corr, annot=True, fmt=\".4f\", cmap=\"RdBu\", center=0, ax=ax)\n",
    "plt.show()"
   ]
  },
  {
   "cell_type": "code",
   "execution_count": 19,
   "id": "e6d7b096",
   "metadata": {},
   "outputs": [
    {
     "data": {
      "text/html": [
       "<div>\n",
       "<style scoped>\n",
       "    .dataframe tbody tr th:only-of-type {\n",
       "        vertical-align: middle;\n",
       "    }\n",
       "\n",
       "    .dataframe tbody tr th {\n",
       "        vertical-align: top;\n",
       "    }\n",
       "\n",
       "    .dataframe thead th {\n",
       "        text-align: right;\n",
       "    }\n",
       "</style>\n",
       "<table border=\"1\" class=\"dataframe\">\n",
       "  <thead>\n",
       "    <tr style=\"text-align: right;\">\n",
       "      <th></th>\n",
       "      <th>weather_type</th>\n",
       "      <th>Temperature</th>\n",
       "      <th>DOZone</th>\n",
       "      <th>Industry</th>\n",
       "      <th>PUTimestamp</th>\n",
       "      <th>PUZone</th>\n",
       "      <th>DOTimestamp</th>\n",
       "      <th>Trip_Distance</th>\n",
       "      <th>Tip_amount</th>\n",
       "      <th>Total_amount</th>\n",
       "      <th>PU_weekday</th>\n",
       "      <th>PU_month</th>\n",
       "      <th>PU_weekday_num</th>\n",
       "      <th>PU_pickup_hour</th>\n",
       "      <th>DO_weekday</th>\n",
       "      <th>DO_month</th>\n",
       "      <th>DO_weekday_num</th>\n",
       "      <th>DO_pickup_hour</th>\n",
       "    </tr>\n",
       "  </thead>\n",
       "  <tbody>\n",
       "    <tr>\n",
       "      <th>5503</th>\n",
       "      <td>light rain</td>\n",
       "      <td>291-311</td>\n",
       "      <td>Central Harlem</td>\n",
       "      <td>Third Party Food Delivery</td>\n",
       "      <td>2023-03-07 22:00:00</td>\n",
       "      <td>East Harlem South</td>\n",
       "      <td>2023-03-07 22:03:00</td>\n",
       "      <td>0.83</td>\n",
       "      <td>0.0</td>\n",
       "      <td>8.3</td>\n",
       "      <td>&lt;bound method PandasDelegate._add_delegate_acc...</td>\n",
       "      <td>3</td>\n",
       "      <td>3</td>\n",
       "      <td>22</td>\n",
       "      <td>&lt;bound method PandasDelegate._add_delegate_acc...</td>\n",
       "      <td>3</td>\n",
       "      <td>3</td>\n",
       "      <td>22</td>\n",
       "    </tr>\n",
       "    <tr>\n",
       "      <th>5504</th>\n",
       "      <td>light rain</td>\n",
       "      <td>291-311</td>\n",
       "      <td>Central Harlem</td>\n",
       "      <td>Electronic Cigarette Dealer</td>\n",
       "      <td>2023-03-07 22:00:00</td>\n",
       "      <td>East Harlem South</td>\n",
       "      <td>2023-03-07 22:03:00</td>\n",
       "      <td>0.83</td>\n",
       "      <td>0.0</td>\n",
       "      <td>8.3</td>\n",
       "      <td>&lt;bound method PandasDelegate._add_delegate_acc...</td>\n",
       "      <td>3</td>\n",
       "      <td>3</td>\n",
       "      <td>22</td>\n",
       "      <td>&lt;bound method PandasDelegate._add_delegate_acc...</td>\n",
       "      <td>3</td>\n",
       "      <td>3</td>\n",
       "      <td>22</td>\n",
       "    </tr>\n",
       "    <tr>\n",
       "      <th>5505</th>\n",
       "      <td>light rain</td>\n",
       "      <td>291-311</td>\n",
       "      <td>Central Harlem</td>\n",
       "      <td>Tobacco Retail Dealer</td>\n",
       "      <td>2023-03-07 22:00:00</td>\n",
       "      <td>East Harlem South</td>\n",
       "      <td>2023-03-07 22:03:00</td>\n",
       "      <td>0.83</td>\n",
       "      <td>0.0</td>\n",
       "      <td>8.3</td>\n",
       "      <td>&lt;bound method PandasDelegate._add_delegate_acc...</td>\n",
       "      <td>3</td>\n",
       "      <td>3</td>\n",
       "      <td>22</td>\n",
       "      <td>&lt;bound method PandasDelegate._add_delegate_acc...</td>\n",
       "      <td>3</td>\n",
       "      <td>3</td>\n",
       "      <td>22</td>\n",
       "    </tr>\n",
       "    <tr>\n",
       "      <th>5506</th>\n",
       "      <td>light rain</td>\n",
       "      <td>291-311</td>\n",
       "      <td>Central Harlem</td>\n",
       "      <td>Garage</td>\n",
       "      <td>2023-03-07 22:00:00</td>\n",
       "      <td>East Harlem South</td>\n",
       "      <td>2023-03-07 22:03:00</td>\n",
       "      <td>0.83</td>\n",
       "      <td>0.0</td>\n",
       "      <td>8.3</td>\n",
       "      <td>&lt;bound method PandasDelegate._add_delegate_acc...</td>\n",
       "      <td>3</td>\n",
       "      <td>3</td>\n",
       "      <td>22</td>\n",
       "      <td>&lt;bound method PandasDelegate._add_delegate_acc...</td>\n",
       "      <td>3</td>\n",
       "      <td>3</td>\n",
       "      <td>22</td>\n",
       "    </tr>\n",
       "    <tr>\n",
       "      <th>5507</th>\n",
       "      <td>light rain</td>\n",
       "      <td>291-311</td>\n",
       "      <td>Central Harlem</td>\n",
       "      <td>Secondhand Dealer - General</td>\n",
       "      <td>2023-03-07 22:00:00</td>\n",
       "      <td>East Harlem South</td>\n",
       "      <td>2023-03-07 22:03:00</td>\n",
       "      <td>0.83</td>\n",
       "      <td>0.0</td>\n",
       "      <td>8.3</td>\n",
       "      <td>&lt;bound method PandasDelegate._add_delegate_acc...</td>\n",
       "      <td>3</td>\n",
       "      <td>3</td>\n",
       "      <td>22</td>\n",
       "      <td>&lt;bound method PandasDelegate._add_delegate_acc...</td>\n",
       "      <td>3</td>\n",
       "      <td>3</td>\n",
       "      <td>22</td>\n",
       "    </tr>\n",
       "  </tbody>\n",
       "</table>\n",
       "</div>"
      ],
      "text/plain": [
       "     weather_type Temperature          DOZone                     Industry  \\\n",
       "5503   light rain     291-311  Central Harlem    Third Party Food Delivery   \n",
       "5504   light rain     291-311  Central Harlem  Electronic Cigarette Dealer   \n",
       "5505   light rain     291-311  Central Harlem        Tobacco Retail Dealer   \n",
       "5506   light rain     291-311  Central Harlem                       Garage   \n",
       "5507   light rain     291-311  Central Harlem  Secondhand Dealer - General   \n",
       "\n",
       "             PUTimestamp             PUZone         DOTimestamp  \\\n",
       "5503 2023-03-07 22:00:00  East Harlem South 2023-03-07 22:03:00   \n",
       "5504 2023-03-07 22:00:00  East Harlem South 2023-03-07 22:03:00   \n",
       "5505 2023-03-07 22:00:00  East Harlem South 2023-03-07 22:03:00   \n",
       "5506 2023-03-07 22:00:00  East Harlem South 2023-03-07 22:03:00   \n",
       "5507 2023-03-07 22:00:00  East Harlem South 2023-03-07 22:03:00   \n",
       "\n",
       "      Trip_Distance  Tip_amount  Total_amount  \\\n",
       "5503           0.83         0.0           8.3   \n",
       "5504           0.83         0.0           8.3   \n",
       "5505           0.83         0.0           8.3   \n",
       "5506           0.83         0.0           8.3   \n",
       "5507           0.83         0.0           8.3   \n",
       "\n",
       "                                             PU_weekday  PU_month  \\\n",
       "5503  <bound method PandasDelegate._add_delegate_acc...         3   \n",
       "5504  <bound method PandasDelegate._add_delegate_acc...         3   \n",
       "5505  <bound method PandasDelegate._add_delegate_acc...         3   \n",
       "5506  <bound method PandasDelegate._add_delegate_acc...         3   \n",
       "5507  <bound method PandasDelegate._add_delegate_acc...         3   \n",
       "\n",
       "     PU_weekday_num  PU_pickup_hour  \\\n",
       "5503              3              22   \n",
       "5504              3              22   \n",
       "5505              3              22   \n",
       "5506              3              22   \n",
       "5507              3              22   \n",
       "\n",
       "                                             DO_weekday  DO_month  \\\n",
       "5503  <bound method PandasDelegate._add_delegate_acc...         3   \n",
       "5504  <bound method PandasDelegate._add_delegate_acc...         3   \n",
       "5505  <bound method PandasDelegate._add_delegate_acc...         3   \n",
       "5506  <bound method PandasDelegate._add_delegate_acc...         3   \n",
       "5507  <bound method PandasDelegate._add_delegate_acc...         3   \n",
       "\n",
       "     DO_weekday_num  DO_pickup_hour  \n",
       "5503              3              22  \n",
       "5504              3              22  \n",
       "5505              3              22  \n",
       "5506              3              22  \n",
       "5507              3              22  "
      ]
     },
     "execution_count": 19,
     "metadata": {},
     "output_type": "execute_result"
    }
   ],
   "source": [
    "taxi_df.tail(5)"
   ]
  },
  {
   "cell_type": "code",
   "execution_count": 20,
   "id": "aa7bb020",
   "metadata": {},
   "outputs": [
    {
     "data": {
      "text/plain": [
       "Index(['weather_type', 'Temperature', 'DOZone', 'Industry', 'PUTimestamp',\n",
       "       'PUZone', 'DOTimestamp', 'Trip_Distance', 'Tip_amount', 'Total_amount',\n",
       "       'PU_weekday', 'PU_month', 'PU_weekday_num', 'PU_pickup_hour',\n",
       "       'DO_weekday', 'DO_month', 'DO_weekday_num', 'DO_pickup_hour'],\n",
       "      dtype='object')"
      ]
     },
     "execution_count": 20,
     "metadata": {},
     "output_type": "execute_result"
    }
   ],
   "source": [
    "taxi_df.columns"
   ]
  },
  {
   "cell_type": "markdown",
   "id": "be1cd474",
   "metadata": {},
   "source": [
    "# Scaling the Data"
   ]
  },
  {
   "cell_type": "code",
   "execution_count": 21,
   "id": "4dadeb8c",
   "metadata": {},
   "outputs": [],
   "source": [
    "scaler = preprocessing.StandardScaler()\n",
    "scaler.fit(taxi_df[['Trip_Distance']])  # Note the use of an array of column names\n",
    "\n",
    "# Transform the full dataset\n",
    "taxiNorm = pd.concat([pd.DataFrame(scaler.transform(taxi_df[['Trip_Distance']]), \n",
    "                                    columns=['zTrip_Distance']),\n",
    "                       taxi_df[['weather_type', 'Temperature', 'DOZone','PUZone', 'Total_amount','Tip_amount','PU_weekday_num', 'PU_pickup_hour','DO_weekday_num', 'DO_pickup_hour']]], axis=1)\n"
   ]
  },
  {
   "cell_type": "markdown",
   "id": "4c5100db",
   "metadata": {},
   "source": [
    "# Choosing the Target Variable and Splitting the Data into Test and Train"
   ]
  },
  {
   "cell_type": "code",
   "execution_count": 22,
   "id": "4ca7acdf",
   "metadata": {},
   "outputs": [],
   "source": [
    "predictors = ['zTrip_Distance', 'weather_type', 'Temperature', 'DOZone','PUZone','PU_weekday_num', 'PU_pickup_hour','DO_weekday_num', 'DO_pickup_hour']\n",
    "outcome = 'Tip_amount'\n",
    "\n",
    "\n",
    "# partition data\n",
    "X = pd.get_dummies(taxiNorm[predictors], drop_first=True)\n",
    "y = taxiNorm[outcome]\n",
    "train_X, valid_X, train_y, valid_y = train_test_split(X, y, test_size=0.3, random_state=100)"
   ]
  },
  {
   "cell_type": "markdown",
   "id": "9450a2b5",
   "metadata": {},
   "source": [
    "# Linear Regression Model"
   ]
  },
  {
   "cell_type": "code",
   "execution_count": 23,
   "id": "e83dc5b7",
   "metadata": {
    "scrolled": false
   },
   "outputs": [
    {
     "name": "stdout",
     "output_type": "stream",
     "text": [
      "intercept  4.627801461423881\n",
      "                   Predictor   coefficient\n",
      "0             zTrip_Distance  1.005767e+00\n",
      "1             PU_pickup_hour -3.140394e+10\n",
      "2             DO_pickup_hour  3.140394e+10\n",
      "3    weather_type_few clouds  1.136840e+00\n",
      "4           weather_type_fog  9.465912e-01\n",
      "..                       ...           ...\n",
      "185         DO_weekday_num_3 -4.105835e-01\n",
      "186         DO_weekday_num_4  2.023125e-02\n",
      "187         DO_weekday_num_5  3.670802e+08\n",
      "188         DO_weekday_num_6  6.972703e+10\n",
      "189         DO_weekday_num_7 -3.140394e+10\n",
      "\n",
      "[190 rows x 2 columns]\n",
      "\n",
      "Regression statistics\n",
      "\n",
      "               Mean Error (ME) : 0.0002\n",
      "Root Mean Squared Error (RMSE) : 1.3198\n",
      "     Mean Absolute Error (MAE) : 0.8681\n"
     ]
    }
   ],
   "source": [
    "taxi_lm = LinearRegression()\n",
    "taxi_lm.fit(train_X, train_y)\n",
    "\n",
    "# print coefficients\n",
    "print('intercept ', taxi_lm.intercept_)\n",
    "print(pd.DataFrame({'Predictor': X.columns, 'coefficient': taxi_lm.coef_}))\n",
    "\n",
    "# print performance measures\n",
    "regressionSummary(train_y, taxi_lm.predict(train_X))"
   ]
  },
  {
   "cell_type": "markdown",
   "id": "b6910e5b",
   "metadata": {},
   "source": [
    "Measure the error metrics"
   ]
  },
  {
   "cell_type": "code",
   "execution_count": 34,
   "id": "d3444c16",
   "metadata": {},
   "outputs": [
    {
     "name": "stdout",
     "output_type": "stream",
     "text": [
      "adjusted r2 :  0.5853209459753438\n",
      "AIC :  13463.117771121137\n",
      "BIC :  14664.486018032643\n"
     ]
    }
   ],
   "source": [
    "pred_y = taxi_lm.predict(train_X)\n",
    "\n",
    "\n",
    "print('adjusted r2 : ', adjusted_r2_score(train_y, pred_y, taxi_lm))\n",
    "print('AIC : ', AIC_score(train_y, pred_y, taxi_lm))\n",
    "print('BIC : ', BIC_score(train_y, pred_y, taxi_lm))"
   ]
  },
  {
   "cell_type": "code",
   "execution_count": 35,
   "id": "09713e6e",
   "metadata": {},
   "outputs": [
    {
     "name": "stdout",
     "output_type": "stream",
     "text": [
      "      Predicted  Actual  Residual\n",
      "5441   3.639682    3.64  0.000318\n",
      "1244   0.353315    0.00 -0.353315\n",
      "3648   0.244768    0.00 -0.244768\n",
      "2982   1.219827    3.00  1.780173\n",
      "709    1.366665    2.80  1.433335\n",
      "42     1.235492    1.85  0.614508\n",
      "339   -0.000228    0.00  0.000228\n",
      "1366   1.229313    0.00 -1.229313\n",
      "3662   3.778551    0.00 -3.778551\n",
      "5442   3.639682    3.64  0.000318\n",
      "664    2.959395    4.39  1.430605\n",
      "2389   0.688226    0.90  0.211774\n",
      "5052  -0.432560    2.00  2.432560\n",
      "5454   3.639682    3.64  0.000318\n",
      "3854   2.101457    2.30  0.198543\n",
      "3049   2.205942    2.44  0.234058\n",
      "634    0.805315    0.00 -0.805315\n",
      "1054   3.165966    3.64  0.474034\n",
      "3629   3.171899    3.00 -0.171899\n",
      "585    3.629878    4.58  0.950122\n",
      "\n",
      "Regression statistics\n",
      "\n",
      "               Mean Error (ME) : 0.0509\n",
      "Root Mean Squared Error (RMSE) : 1.3823\n",
      "     Mean Absolute Error (MAE) : 0.9020\n"
     ]
    }
   ],
   "source": [
    "# Use predict() to make predictions on a new set\n",
    "taxi_lm_pred = taxi_lm.predict(valid_X)\n",
    "\n",
    "result = pd.DataFrame({'Predicted': taxi_lm_pred, 'Actual': valid_y,\n",
    "                       'Residual': valid_y - taxi_lm_pred})\n",
    "print(result.head(20))\n",
    "\n",
    "# Compute common accuracy measures\n",
    "regressionSummary(valid_y, taxi_lm_pred)"
   ]
  },
  {
   "cell_type": "code",
   "execution_count": 39,
   "id": "1c936819",
   "metadata": {},
   "outputs": [
    {
     "name": "stdout",
     "output_type": "stream",
     "text": [
      "r2 :  0.545388929727596\n",
      "adjusted r2 :  0.48630814768125075\n",
      "AIC :  6145.312973137317\n",
      "BIC :  7184.099615918954\n"
     ]
    }
   ],
   "source": [
    "print('r2 : ', r2_score(valid_y, taxi_lm_pred))\n",
    "print('adjusted r2 : ', adjusted_r2_score(valid_y, taxi_lm_pred, taxi_lm))\n",
    "print('AIC : ', AIC_score(valid_y, taxi_lm_pred, taxi_lm))\n",
    "print('BIC : ', BIC_score(valid_y, taxi_lm_pred, taxi_lm))"
   ]
  },
  {
   "cell_type": "code",
   "execution_count": 36,
   "id": "f31029fa",
   "metadata": {},
   "outputs": [
    {
     "name": "stdout",
     "output_type": "stream",
     "text": [
      "1.0\n"
     ]
    },
    {
     "data": {
      "image/png": "[encoded data removed]",
      "text/plain": [
       "<Figure size 640x480 with 1 Axes>"
      ]
     },
     "metadata": {},
     "output_type": "display_data"
    }
   ],
   "source": [
    "taxi_lm_pred = taxi_lm.predict(valid_X)\n",
    "all_residuals = valid_y - taxi_lm_pred\n",
    "\n",
    "# Determine the percentage of datapoints with a residual in [-1406, 1406] = approx. 75\\%\n",
    "print(len(all_residuals[(all_residuals > -1406) & (all_residuals < 1406)]) / len(all_residuals))\n",
    "\n",
    "ax = pd.DataFrame({'Residuals': all_residuals}).hist(bins=25)\n",
    "\n",
    "plt.tight_layout()\n",
    "plt.show()"
   ]
  },
  {
   "cell_type": "markdown",
   "id": "5d425fb1",
   "metadata": {},
   "source": [
    "# XGBoost Model"
   ]
  },
  {
   "cell_type": "code",
   "execution_count": 27,
   "id": "2f873ec9",
   "metadata": {},
   "outputs": [],
   "source": [
    "import xgboost as xgb"
   ]
  },
  {
   "cell_type": "code",
   "execution_count": 28,
   "id": "2f93113e",
   "metadata": {},
   "outputs": [],
   "source": [
    "# XGBoost regression model \n",
    "xgb_reg = xgb.XGBRegressor(n_estimators=100, learning_rate=0.1)\n",
    "\n",
    "# Train \n",
    "xgb_reg.fit(train_X, train_y)  \n",
    "\n",
    "# Predict  \n",
    "y_pred = xgb_reg.predict(valid_X)"
   ]
  },
  {
   "cell_type": "code",
   "execution_count": 40,
   "id": "337c04fa",
   "metadata": {},
   "outputs": [
    {
     "name": "stdout",
     "output_type": "stream",
     "text": [
      "\n",
      "Regression statistics\n",
      "\n",
      "               Mean Error (ME) : 0.0368\n",
      "Root Mean Squared Error (RMSE) : 0.7826\n",
      "     Mean Absolute Error (MAE) : 0.5968\n"
     ]
    }
   ],
   "source": [
    "# Compute common accuracy measures\n",
    "regressionSummary(valid_y, y_pred)"
   ]
  },
  {
   "cell_type": "markdown",
   "id": "6ecabfb5",
   "metadata": {},
   "source": [
    "Measure the Error Metrics"
   ]
  },
  {
   "cell_type": "code",
   "execution_count": 29,
   "id": "09a1e248",
   "metadata": {},
   "outputs": [
    {
     "name": "stdout",
     "output_type": "stream",
     "text": [
      "RMSE: 0.782562\n",
      "R^2: 0.8542946805197011\n"
     ]
    }
   ],
   "source": [
    "# Evaluate RMSE\n",
    "from sklearn.metrics import mean_squared_error \n",
    "rmse = np.sqrt(mean_squared_error(valid_y, y_pred))\n",
    "print(\"RMSE: %f\" % rmse)\n",
    "\n",
    "r2 = r2_score(valid_y, y_pred) \n",
    "\n",
    "\n",
    "print(\"R^2:\", r2)"
   ]
  },
  {
   "cell_type": "code",
   "execution_count": null,
   "id": "a03a6859",
   "metadata": {},
   "outputs": [],
   "source": []
  }
 ],
 "metadata": {
  "kernelspec": {
   "display_name": "Python 3 (ipykernel)",
   "language": "python",
   "name": "python3"
  },
  "language_info": {
   "codemirror_mode": {
    "name": "ipython",
    "version": 3
   },
   "file_extension": ".py",
   "mimetype": "text/x-python",
   "name": "python",
   "nbconvert_exporter": "python",
   "pygments_lexer": "ipython3",
   "version": "3.11.5"
  }
 },
 "nbformat": 4,
 "nbformat_minor": 5
}
